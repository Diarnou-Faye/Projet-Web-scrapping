{
 "cells": [
  {
   "cell_type": "markdown",
   "id": "6fe00502-441f-41ee-a706-ca658ae98b92",
   "metadata": {},
   "source": [
    "## **Ceci est un projet de web scrapping sur le site expat-dakar pour pouvoir extraire les informations sur:**\n",
    "\n",
    "<br>\n",
    "<div style=\"text-align: center;\">\n",
    "    <img src=\"logo-colour.05769328.svg\" alt=\"Logo de Keur-Immo\" width=\"400\"/>\n",
    "</div>\n",
    "<br><br>\n",
    "\n",
    "\n",
    "**1. Titre de l'annonce :** Pour identifier rapidement la nature de la propriété (par exemple, \"Appartement à louer à Dakar\").\n",
    "\n",
    "**2. Adresse/Localisation :** Pour analyser la répartition géographique des biens immobiliers.\n",
    "\n",
    "**3. Prix :** Pour analyser les tendances de prix selon les quartiers et le type de biens.\n",
    "\n",
    "**4. Surface :** Pour calculer le prix par mètre carré et comparer les offres similaires."
   ]
  },
  {
   "cell_type": "code",
   "execution_count": 325,
   "id": "7d60b6a2-c679-4b5b-9632-e1be36e15467",
   "metadata": {},
   "outputs": [],
   "source": [
    "# Importation des librairies\n",
    "import requests\n",
    "from bs4 import BeautifulSoup\n",
    "import pandas as pd\n",
    "import time\n",
    "\n",
    "title_offres = []\n",
    "titres = []\n",
    "localisations = []\n",
    "prix = []\n",
    "surfaces = []\n",
    "chambres = []\n",
    "\n",
    "\n",
    "#Création de fonctions nomNum_page qui va recupérer les données de la page et les mettre dans un document objet beautiful soup \n",
    "def nomNum_page(nomNum):\n",
    "    # Construction de l'url de la page\n",
    "    web_site_url = 'https://www.expat-dakar.com/immobilier' + nomNum\n",
    "\n",
    "    # recupération du contenu de la page HTML en utilisant la librairie requests\n",
    "    download = requests.get(web_site_url)\n",
    "\n",
    "    # Ensure that the reponse is valid\n",
    "    if download.status_code != 200:\n",
    "        print('Status code:', download.status_code)\n",
    "        raise Exception('Le téléchargement de la page web : ' + web_site_url + ' à échoué')\n",
    "\n",
    "    # Construct a beautiful soup document\n",
    "    page_content = BeautifulSoup(download.text)\n",
    "\n",
    "    return page_content\n",
    "\n",
    "# Fonction d'extraction des données des données exacte que l'on à besoin\n",
    "def extract_data(nomNum):\n",
    "    pages_contents = nomNum_page(nomNum)\n",
    "    \n",
    "    #Trouvons touts les div avec la classe listing-card__header__title\n",
    "    matching_offre1_10 = pages_contents.find_all('div',class_='listing-card__content 1')\n",
    "    #return matching_offre1_10\n",
    "\n",
    "    for matched_offre1_10 in matching_offre1_10:\n",
    "        titre = matched_offre1_10.find('div', class_='listing-card__header__title')\n",
    "        localisation = matched_offre1_10.find('div', class_='listing-card__header__location')\n",
    "        prix = matched_offre1_10.find('span', class_='listing-card__price__value')\n",
    "        surface = matched_offre1_10.find('span', class_='listing-card__header__tags__item--square-metres')\n",
    "        chambre = matched_offre1_10.find('span', class_='listing-card__header__tags__item--no-of-bedrooms')\n",
    "\n",
    "        if titre:\n",
    "            titres.append(titre.text.strip())\n",
    "        else:\n",
    "            titres.append(None)\n",
    "        \n",
    "        if localisation:\n",
    "            localisations.append(localisation.text.strip())\n",
    "        else:\n",
    "            localisations.append(None)\n",
    "        \n",
    "        if prix:\n",
    "            prix.append(prix.text.strip())\n",
    "        else:\n",
    "            prix.append(None)\n",
    "        \n",
    "        if surface:\n",
    "            surfaces.append(surface.text.strip())\n",
    "        else:\n",
    "            surfaces.append(None)\n",
    "        \n",
    "        if chambre:\n",
    "            chambres.append(chambre.text.strip())\n",
    "        else:\n",
    "            chambres.append(None)\n",
    "        \n",
    "        # Pause de 2 secondes entre chaque requête\n",
    "        time.sleep(2)\n",
    "\n",
    "        data = {\n",
    "            'Titre': titres,\n",
    "            'Localisation': localisations,\n",
    "            'Prix': prix,\n",
    "            'Surface': surfaces,\n",
    "            'Chambres': chambres\n",
    "        }\n",
    "        \n",
    "    return data\n",
    "    \n",
    "# Fonction qui ajoute le texte des données recupérer dans une liste des offres\n",
    "#def add_data (matching_offre1_10): \n",
    "    #for offre1_10 in matching_offre1_10:\n",
    "        # Ici on ajoute le contenu text de la balise avec text.strip() dans la liste des offres\n",
    "        #title_offres.append(offre1_10.text.strip())\n",
    "        \n",
    "    #return title_offres"
   ]
  },
  {
   "cell_type": "code",
   "execution_count": 327,
   "id": "33a497cb-d7fe-4e35-a43c-7bed8ab514fb",
   "metadata": {},
   "outputs": [],
   "source": [
    "doc = nomNum_page('')\n"
   ]
  },
  {
   "cell_type": "code",
   "execution_count": 329,
   "id": "f518ab77-56f2-4ebc-8dc5-5b9985f2ef0e",
   "metadata": {},
   "outputs": [
    {
     "data": {
      "text/plain": [
       "'Immobilier - Sénégal | Expat-Dakar'"
      ]
     },
     "execution_count": 329,
     "metadata": {},
     "output_type": "execute_result"
    }
   ],
   "source": [
    "doc.title.text\n"
   ]
  },
  {
   "cell_type": "code",
   "execution_count": 331,
   "id": "f0aa22d2-0f1c-46c3-9623-27bf505ea557",
   "metadata": {},
   "outputs": [
    {
     "data": {
      "text/plain": [
       "{'Titre': ['Appartement T4 vue mer à louer Corniche Almadies',\n",
       "  'Des villas TF en location-vente payable sur 10 ans',\n",
       "  'Terrain à vendre à Diass futur Almadies',\n",
       "  'Diass - Terrain',\n",
       "  'Appartement neuf à vendre aux almadies',\n",
       "  'Chambre à louer',\n",
       "  'A louer un grand appartement',\n",
       "  'Magnifique appartement F4 très lumineux à louer aux mamelles',\n",
       "  'Magnifiques appartements F4 à vendre aux Almadies',\n",
       "  'Appartement F3 à louer avec vue sur mer en centre ville',\n",
       "  'Appartement F4 a louer',\n",
       "  'Superbe appartement meublé (F2) à Ngor'],\n",
       " 'Localisation': ['Almadies,\\nDakar',\n",
       "  'Ndiakhirate,\\nDakar',\n",
       "  'Mbour,\\nThiès',\n",
       "  'Mbour,\\nThiès',\n",
       "  'Almadies,\\nDakar',\n",
       "  'Yoff,\\nDakar',\n",
       "  'Sacré-cœur,\\nDakar',\n",
       "  'Mamelles,\\nDakar',\n",
       "  'Almadies,\\nDakar',\n",
       "  'Plateau,\\nDakar',\n",
       "  'Keur Massar,\\nDakar',\n",
       "  'Ngor,\\nDakar'],\n",
       " 'Prix': <span class=\"listing-card__price__value 1\">\n",
       " 30 000 F Cfa\n",
       " 30 000 F Cfa</span>,\n",
       " 'Surface': ['256 m²',\n",
       "  '150 m²',\n",
       "  '180 m²',\n",
       "  '225 m²',\n",
       "  '175 m²',\n",
       "  None,\n",
       "  '310 m²',\n",
       "  None,\n",
       "  None,\n",
       "  None,\n",
       "  None,\n",
       "  '100 m²'],\n",
       " 'Chambres': ['3 chambre',\n",
       "  '3 chambre',\n",
       "  None,\n",
       "  None,\n",
       "  '3 chambre',\n",
       "  None,\n",
       "  '3 chambre',\n",
       "  '3 chambre',\n",
       "  None,\n",
       "  '2 chambre',\n",
       "  None,\n",
       "  '1 chambre']}"
      ]
     },
     "execution_count": 331,
     "metadata": {},
     "output_type": "execute_result"
    }
   ],
   "source": [
    "donnees = extract_data('')\n",
    "donnees"
   ]
  },
  {
   "cell_type": "code",
   "execution_count": 237,
   "id": "c8ea5dda-f098-4534-a7eb-5e748e07db37",
   "metadata": {},
   "outputs": [],
   "source": [
    "#for i in range(1,10):\n",
    "    #page = '?page='\n",
    "    #Concaténation de la variable page qui est une chaine et de i qui représente le numéro de la page et qui est un entier\n",
    "    #s = \"%s%s\" % (page, i)\n",
    "    #print(extract_data(s))"
   ]
  }
 ],
 "metadata": {
  "kernelspec": {
   "display_name": "Python 3 (ipykernel)",
   "language": "python",
   "name": "python3"
  },
  "language_info": {
   "codemirror_mode": {
    "name": "ipython",
    "version": 3
   },
   "file_extension": ".py",
   "mimetype": "text/x-python",
   "name": "python",
   "nbconvert_exporter": "python",
   "pygments_lexer": "ipython3",
   "version": "3.11.7"
  }
 },
 "nbformat": 4,
 "nbformat_minor": 5
}
